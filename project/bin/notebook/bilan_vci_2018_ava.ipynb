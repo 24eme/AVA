{
 "cells": [
  {
   "cell_type": "code",
   "execution_count": null,
   "metadata": {},
   "outputs": [],
   "source": [
    "import pandas as pd"
   ]
  },
  {
   "cell_type": "code",
   "execution_count": null,
   "metadata": {},
   "outputs": [],
   "source": [
    "appellation = \"AOC Crémant d'Alsace\"\n",
    "#appellation = \"AOC Alsace blanc\"\n",
    "vci_2018 = pd.read_csv(\"registre_2018.csv\", delimiter=\";\", decimal=\",\", dtype={'CVI': 'str', 'SIRET': 'str', 'Produit': 'str'})\n",
    "vci_2017 = pd.read_csv(\"registre_2017.csv\", delimiter=\";\", decimal=\",\", dtype={'CVI': 'str', 'SIRET': 'str', 'Produit': 'str'})\n",
    "drev_2018 = pd.read_csv(\"drev_2018.csv\", delimiter=\";\", decimal=\",\", dtype={'CVI Opérateur': 'str'})\n",
    "infos = pd.concat([vci_2018,vci_2017], ignore_index=True)"
   ]
  },
  {
   "cell_type": "code",
   "execution_count": null,
   "metadata": {},
   "outputs": [],
   "source": [
    "vci_2018.head(5)"
   ]
  },
  {
   "cell_type": "code",
   "execution_count": null,
   "metadata": {},
   "outputs": [],
   "source": [
    "vci_2018.columns.tolist()"
   ]
  },
  {
   "cell_type": "code",
   "execution_count": null,
   "metadata": {},
   "outputs": [],
   "source": [
    "vci_2018[vci_2018['Produit'].str.contains(appellation)]"
   ]
  },
  {
   "cell_type": "code",
   "execution_count": null,
   "metadata": {},
   "outputs": [],
   "source": [
    "vci_2018_group = vci_2018[vci_2018['Produit'].str.contains(appellation)].iloc[:,[1,11,12,13,14,15,16,17]].groupby('CVI').agg('sum').reset_index()\n",
    "vci_2017_group = vci_2017[vci_2017['Produit'].str.contains(appellation)].iloc[:,[1,11,12,13,14,15,16,17]].groupby('CVI').agg('sum').reset_index()"
   ]
  },
  {
   "cell_type": "code",
   "execution_count": null,
   "metadata": {},
   "outputs": [],
   "source": [
    "vci_2018_group.head()"
   ]
  },
  {
   "cell_type": "code",
   "execution_count": null,
   "metadata": {},
   "outputs": [],
   "source": [
    "vci_2018_group.describe()"
   ]
  },
  {
   "cell_type": "code",
   "execution_count": null,
   "metadata": {},
   "outputs": [],
   "source": [
    "vci_2017_group.head()"
   ]
  },
  {
   "cell_type": "code",
   "execution_count": null,
   "metadata": {},
   "outputs": [],
   "source": [
    "vci_2017_group.describe()"
   ]
  },
  {
   "cell_type": "code",
   "execution_count": null,
   "metadata": {},
   "outputs": [],
   "source": [
    "registres = pd.merge(vci_2017_group, vci_2018_group,  how='outer', on=['CVI'])"
   ]
  },
  {
   "cell_type": "code",
   "execution_count": null,
   "metadata": {},
   "outputs": [],
   "source": [
    "registres.head()"
   ]
  },
  {
   "cell_type": "code",
   "execution_count": null,
   "metadata": {},
   "outputs": [],
   "source": [
    "registres.describe()"
   ]
  },
  {
   "cell_type": "code",
   "execution_count": null,
   "metadata": {},
   "outputs": [],
   "source": [
    "type_ligne=\"Revendication\" \n",
    "drev_2018['type_ligne'] = drev_2018['Type de ligne'] \n",
    "drev_2018.query(\"Produit == @appellation and type_ligne == @type_ligne\")"
   ]
  },
  {
   "cell_type": "code",
   "execution_count": null,
   "metadata": {},
   "outputs": [],
   "source": [
    "drev_2018_group = drev_2018.query(\"Produit == @appellation and type_ligne == @type_ligne\").iloc[:,[1,10,11,12,13]].reset_index()"
   ]
  },
  {
   "cell_type": "code",
   "execution_count": null,
   "metadata": {},
   "outputs": [],
   "source": [
    "drev_2018_group.head()"
   ]
  },
  {
   "cell_type": "code",
   "execution_count": null,
   "metadata": {},
   "outputs": [],
   "source": [
    "drev_2018_group.describe()"
   ]
  },
  {
   "cell_type": "code",
   "execution_count": null,
   "metadata": {},
   "outputs": [],
   "source": [
    "bilan = pd.merge(registres, drev_2018_group, how='left', left_on='CVI', right_on='CVI Opérateur')"
   ]
  },
  {
   "cell_type": "code",
   "execution_count": null,
   "metadata": {},
   "outputs": [],
   "source": [
    "infos.head()"
   ]
  },
  {
   "cell_type": "code",
   "execution_count": null,
   "metadata": {},
   "outputs": [],
   "source": [
    "infos_unique = infos.reindex(columns=[\"CVI\", \"SIRET\", \"Raison sociale\", \"Adresse\", \"Code postal\", \"Commune\"]).drop_duplicates().reset_index();"
   ]
  },
  {
   "cell_type": "code",
   "execution_count": null,
   "metadata": {},
   "outputs": [],
   "source": [
    "infos_unique.head()"
   ]
  },
  {
   "cell_type": "code",
   "execution_count": null,
   "metadata": {},
   "outputs": [],
   "source": [
    "bilan_infos = pd.merge(bilan, infos_unique, how='left', on='CVI')"
   ]
  },
  {
   "cell_type": "code",
   "execution_count": null,
   "metadata": {},
   "outputs": [],
   "source": [
    "bilan_infos.head()"
   ]
  },
  {
   "cell_type": "code",
   "execution_count": null,
   "metadata": {},
   "outputs": [],
   "source": [
    "bilan_infos.describe()"
   ]
  },
  {
   "cell_type": "code",
   "execution_count": null,
   "metadata": {},
   "outputs": [],
   "source": [
    "bilan_infos['titre'] = \"\"\n",
    "bilan_infos['raison_sociale'] = bilan_infos[\"Raison sociale\"]\n",
    "bilan_infos['adresse'] = bilan_infos[\"Adresse\"]\n",
    "bilan_infos['commune'] = bilan_infos[\"Commune\"]\n",
    "bilan_infos['code_postal'] = bilan_infos[\"Code postal\"]\n",
    "bilan_infos['siret'] = bilan_infos[\"SIRET\"]\n",
    "bilan_infos['stock_vci_n-1'] = bilan_infos[\"Constitue_x\"] + bilan[\"Stock précédent_x\"]\n",
    "bilan_infos['dr_surface'] = bilan_infos[\"Superficie revendiqué\"]\n",
    "bilan_infos['dr_volume'] = bilan_infos[\"Volume revendiqué\"]\n",
    "bilan_infos['dr_vci'] = bilan_infos[\"Constitue_y\"]\n",
    "bilan_infos['vci_complement'] = bilan_infos[\"Complément_x\"]\n",
    "bilan_infos['vci_substitution'] = bilan_infos[\"Substitution_x\"]\n",
    "bilan_infos['vci_rafraichi'] = bilan_infos[\"Rafraichi_x\"]\n",
    "bilan_infos['vci_desctruction'] = bilan_infos[\"Destruction_x\"]\n",
    "bilan_infos['drev_revendique_n'] = bilan_infos[\"Volume revendiqué\"] - bilan[\"Volume revendiqué issu du VCI\"]\n",
    "bilan_infos['drev_revendique_n-1'] = bilan_infos[\"Volume revendiqué issu du VCI\"]\n",
    "bilan_infos['stock_vci_n'] = bilan_infos[\"Stock_y\"]"
   ]
  },
  {
   "cell_type": "code",
   "execution_count": null,
   "metadata": {},
   "outputs": [],
   "source": [
    "bilan_final = bilan_infos.reindex(columns=[\"titre\", \"raison_sociale\", \"adresse\", \"commune\", \"code_postal\", \"CVI\", \"siret\", \"stock_vci_n-1\", \"dr_surface\", \"dr_volume\", \"dr_vci\", \"vci_complement\", \"vci_substitution\", \"vci_rafraichi\", \"vci_desctruction\", \"drev_revendique_n\", \"drev_revendique_n-1\", \"stock_vci_n\"])"
   ]
  },
  {
   "cell_type": "code",
   "execution_count": null,
   "metadata": {},
   "outputs": [],
   "source": [
    "bilan_final.describe()"
   ]
  },
  {
   "cell_type": "code",
   "execution_count": null,
   "metadata": {},
   "outputs": [],
   "source": [
    "bilan_final.head()"
   ]
  },
  {
   "cell_type": "code",
   "execution_count": null,
   "metadata": {},
   "outputs": [],
   "source": [
    "bilan_final.to_csv(\"bilan_2018_\"+appellation+\".csv\", sep=\";\", index=False, decimal=\",\")"
   ]
  },
  {
   "cell_type": "code",
   "execution_count": null,
   "metadata": {},
   "outputs": [],
   "source": []
  },
  {
   "cell_type": "code",
   "execution_count": null,
   "metadata": {},
   "outputs": [],
   "source": []
  },
  {
   "cell_type": "code",
   "execution_count": null,
   "metadata": {},
   "outputs": [],
   "source": []
  }
 ],
 "metadata": {
  "kernelspec": {
   "display_name": "Python 3",
   "language": "python",
   "name": "python3"
  },
  "language_info": {
   "codemirror_mode": {
    "name": "ipython",
    "version": 3
   },
   "file_extension": ".py",
   "mimetype": "text/x-python",
   "name": "python",
   "nbconvert_exporter": "python",
   "pygments_lexer": "ipython3",
   "version": "3.7.3rc1"
  }
 },
 "nbformat": 4,
 "nbformat_minor": 2
}
